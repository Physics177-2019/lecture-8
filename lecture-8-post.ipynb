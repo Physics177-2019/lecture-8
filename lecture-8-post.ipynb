{
  "nbformat": 4,
  "nbformat_minor": 0,
  "metadata": {
    "colab": {
      "name": "lecture-8.ipynb",
      "version": "0.3.2",
      "provenance": []
    },
    "kernelspec": {
      "display_name": "Python 3",
      "language": "python",
      "name": "python3"
    }
  },
  "cells": [
    {
      "metadata": {
        "id": "ET6wdlE4R_F4",
        "colab_type": "code",
        "colab": {
          "base_uri": "https://localhost:8080/",
          "height": 479
        },
        "outputId": "2f06c6a0-d40a-427b-fd3a-fbbf6254527b"
      },
      "cell_type": "code",
      "source": [
        "!pip install seaborn --upgrade"
      ],
      "execution_count": 1,
      "outputs": [
        {
          "output_type": "stream",
          "text": [
            "Collecting seaborn\n",
            "\u001b[?25l  Downloading https://files.pythonhosted.org/packages/a8/76/220ba4420459d9c4c9c9587c6ce607bf56c25b3d3d2de62056efe482dadc/seaborn-0.9.0-py3-none-any.whl (208kB)\n",
            "\u001b[K    100% |████████████████████████████████| 215kB 4.6MB/s \n",
            "\u001b[?25hRequirement already satisfied, skipping upgrade: scipy>=0.14.0 in /usr/local/lib/python3.6/dist-packages (from seaborn) (1.1.0)\n",
            "Requirement already satisfied, skipping upgrade: pandas>=0.15.2 in /usr/local/lib/python3.6/dist-packages (from seaborn) (0.22.0)\n",
            "Requirement already satisfied, skipping upgrade: matplotlib>=1.4.3 in /usr/local/lib/python3.6/dist-packages (from seaborn) (3.0.2)\n",
            "Requirement already satisfied, skipping upgrade: numpy>=1.9.3 in /usr/local/lib/python3.6/dist-packages (from seaborn) (1.14.6)\n",
            "Requirement already satisfied, skipping upgrade: pytz>=2011k in /usr/local/lib/python3.6/dist-packages (from pandas>=0.15.2->seaborn) (2018.9)\n",
            "Requirement already satisfied, skipping upgrade: python-dateutil>=2 in /usr/local/lib/python3.6/dist-packages (from pandas>=0.15.2->seaborn) (2.5.3)\n",
            "Requirement already satisfied, skipping upgrade: pyparsing!=2.0.4,!=2.1.2,!=2.1.6,>=2.0.1 in /usr/local/lib/python3.6/dist-packages (from matplotlib>=1.4.3->seaborn) (2.3.1)\n",
            "Requirement already satisfied, skipping upgrade: kiwisolver>=1.0.1 in /usr/local/lib/python3.6/dist-packages (from matplotlib>=1.4.3->seaborn) (1.0.1)\n",
            "Requirement already satisfied, skipping upgrade: cycler>=0.10 in /usr/local/lib/python3.6/dist-packages (from matplotlib>=1.4.3->seaborn) (0.10.0)\n",
            "Requirement already satisfied, skipping upgrade: six>=1.5 in /usr/local/lib/python3.6/dist-packages (from python-dateutil>=2->pandas>=0.15.2->seaborn) (1.11.0)\n",
            "Requirement already satisfied, skipping upgrade: setuptools in /usr/local/lib/python3.6/dist-packages (from kiwisolver>=1.0.1->matplotlib>=1.4.3->seaborn) (40.7.0)\n",
            "Installing collected packages: seaborn\n",
            "  Found existing installation: seaborn 0.7.1\n",
            "    Uninstalling seaborn-0.7.1:\n",
            "      Successfully uninstalled seaborn-0.7.1\n",
            "Successfully installed seaborn-0.9.0\n"
          ],
          "name": "stdout"
        },
        {
          "output_type": "display_data",
          "data": {
            "application/vnd.colab-display-data+json": {
              "pip_warning": {
                "packages": [
                  "seaborn"
                ]
              }
            }
          },
          "metadata": {
            "tags": []
          }
        }
      ]
    },
    {
      "metadata": {
        "id": "UeTDBVGmR_F9",
        "colab_type": "text"
      },
      "cell_type": "markdown",
      "source": [
        "# Lecture 8: Random numbers\n",
        "\n",
        "Python provides a standard library, `random`, for random number generation [here](https://docs.python.org/3/library/random.html). Numpy has a more comprehensive library [here](https://docs.scipy.org/doc/numpy-1.15.0/reference/routines.random.html). For the examples below, we'll use `numpy.random`."
      ]
    },
    {
      "metadata": {
        "id": "_EWpgklSR_F_",
        "colab_type": "code",
        "colab": {
          "base_uri": "https://localhost:8080/",
          "height": 35
        },
        "outputId": "bbb014b9-e6d9-4ea7-d310-38934961707a"
      },
      "cell_type": "code",
      "source": [
        "import numpy as np\n",
        "import numpy.random as rng\n",
        "import seaborn as sns\n",
        "import matplotlib.pyplot as plt\n",
        "\n",
        "# First, let's define a new random number generator and set the seed\n",
        "\n",
        "r = rng.RandomState(0)\n",
        "\n",
        "# We can now use it to generate random numbers\n",
        "\n",
        "n = r.rand()\n",
        "print(n)"
      ],
      "execution_count": 1,
      "outputs": [
        {
          "output_type": "stream",
          "text": [
            "0.5488135039273248\n"
          ],
          "name": "stdout"
        }
      ]
    },
    {
      "metadata": {
        "id": "wJALNf2qR_GB",
        "colab_type": "code",
        "colab": {
          "base_uri": "https://localhost:8080/",
          "height": 54
        },
        "outputId": "dcc9de7e-2b03-4222-eff9-497f87110d51"
      },
      "cell_type": "code",
      "source": [
        "# The sequence of random numbers generated by the same generator \n",
        "# with the same seed is always the same\n",
        "\n",
        "print(np.array([n] + list(r.rand(5))))\n",
        "\n",
        "r2 = rng.RandomState(0)\n",
        "print(r2.rand(6))"
      ],
      "execution_count": 2,
      "outputs": [
        {
          "output_type": "stream",
          "text": [
            "[0.5488135  0.71518937 0.60276338 0.54488318 0.4236548  0.64589411]\n",
            "[0.5488135  0.71518937 0.60276338 0.54488318 0.4236548  0.64589411]\n"
          ],
          "name": "stdout"
        }
      ]
    },
    {
      "metadata": {
        "id": "J99DrgTmR_GG",
        "colab_type": "code",
        "colab": {}
      },
      "cell_type": "code",
      "source": [
        "\n",
        "\n",
        "\n",
        "\n",
        "\n",
        "\n",
        "\n",
        "\n",
        "\n",
        "\n",
        "\n",
        "\n",
        "\n",
        "\n",
        "\n",
        "\n",
        "\n",
        "\n",
        "\n",
        "\n",
        "\n",
        "\n"
      ],
      "execution_count": 0,
      "outputs": []
    },
    {
      "metadata": {
        "id": "YX2YafHKR_GJ",
        "colab_type": "text"
      },
      "cell_type": "markdown",
      "source": [
        "### A simple example: computing the area of a circle\n",
        "\n",
        "Let's randomly generate a set of $(x, y)$ coordinates by choosing $x$ and $y$ values uniformly in the interval $[-1, 1]$. By default, the generator produces (pseudo)random numbers uniformly distributed along the interval $[0, 1)$. So, we can transform this to the distribution that we want with a multiplication and a shift:\n",
        "\n",
        "$$ r^\\prime = 2 r - 1 $$\n",
        "\n",
        "will be distributed uniformly between $[-1, 1)$.\n",
        "\n",
        "We can use these shifted random numbers to compute the area of a circle. We'll generate a large set of random $(x, y)$ coordinates and count only the ones that lie within the unit circle. The total area of the interval is $2\\times2=4$, so the fraction of counted coordinates will give the area of the circle divided by $4$.\n",
        "\n",
        "This kind of technique is called [Monte Carlo simulation](https://en.wikipedia.org/wiki/Monte_Carlo_method)."
      ]
    },
    {
      "metadata": {
        "id": "KDtpah9hR_GK",
        "colab_type": "code",
        "colab": {
          "base_uri": "https://localhost:8080/",
          "height": 35
        },
        "outputId": "bc12f97b-9424-49ad-8907-23e84a8195f8"
      },
      "cell_type": "code",
      "source": [
        "# Generate the random coordinates\n",
        "\n",
        "x = 2*r.rand(1000) - 1\n",
        "y = 2*r.rand(1000) - 1\n",
        "\n",
        "4*np.sum(x**2+y**2<1)/float(len(x))"
      ],
      "execution_count": 7,
      "outputs": [
        {
          "output_type": "execute_result",
          "data": {
            "text/plain": [
              "3.172"
            ]
          },
          "metadata": {
            "tags": []
          },
          "execution_count": 7
        }
      ]
    },
    {
      "metadata": {
        "id": "l6_7C4aaR_GM",
        "colab_type": "code",
        "colab": {}
      },
      "cell_type": "code",
      "source": [
        "\n",
        "\n",
        "\n",
        "\n",
        "\n",
        "\n",
        "\n",
        "\n",
        "\n",
        "\n",
        "\n",
        "\n",
        "\n",
        "\n",
        "\n",
        "\n",
        "\n",
        "\n",
        "\n",
        "\n",
        "\n",
        "\n"
      ],
      "execution_count": 0,
      "outputs": []
    },
    {
      "metadata": {
        "id": "1sShP0TQR_GP",
        "colab_type": "text"
      },
      "cell_type": "markdown",
      "source": [
        "Now, let's make a plot to see what these look like."
      ]
    },
    {
      "metadata": {
        "id": "AcGLNv8RR_GQ",
        "colab_type": "code",
        "colab": {
          "base_uri": "https://localhost:8080/",
          "height": 404
        },
        "outputId": "36b8780e-1439-4e1a-e3ed-595e4ff40529"
      },
      "cell_type": "code",
      "source": [
        "inside  = x**2 + y**2 < 1\n",
        "outside = x**2 + y**2 > 1\n",
        "\n",
        "dims = 6\n",
        "fig, ax = plt.subplots(figsize=(dims, dims))\n",
        "sns.scatterplot( x[inside],  y[inside], ax=ax)\n",
        "sns.scatterplot(x[outside], y[outside], ax=ax)\n",
        "plt.xlabel(r'$x$')\n",
        "plt.ylabel(r'$y$')\n",
        "plt.title(\"Area of a circle via Monte Carlo\");"
      ],
      "execution_count": 9,
      "outputs": [
        {
          "output_type": "display_data",
          "data": {
            "image/png": "[encoded data removed]",
            "text/plain": [
              "<Figure size 432x432 with 1 Axes>"
            ]
          },
          "metadata": {
            "tags": []
          }
        }
      ]
    },
    {
      "metadata": {
        "id": "cTI97vScR_GU",
        "colab_type": "code",
        "colab": {}
      },
      "cell_type": "code",
      "source": [
        "\n",
        "\n",
        "\n",
        "\n",
        "\n",
        "\n",
        "\n",
        "\n",
        "\n",
        "\n",
        "\n",
        "\n",
        "\n",
        "\n",
        "\n",
        "\n",
        "\n",
        "\n",
        "\n",
        "\n",
        "\n",
        "\n"
      ],
      "execution_count": 0,
      "outputs": []
    },
    {
      "metadata": {
        "id": "KbTYpLcnR_GY",
        "colab_type": "text"
      },
      "cell_type": "markdown",
      "source": [
        "### Slightly more tricky: volume of a hypersphere\n",
        "\n",
        "**Exercise**: Write a routine to compute the volume of a 7-sphere with unit radius. This is not too difficult to work out analytically, but it can take a long time to compute by conventional numerical integration."
      ]
    },
    {
      "metadata": {
        "id": "bnSE9RlCR_GZ",
        "colab_type": "code",
        "colab": {
          "base_uri": "https://localhost:8080/",
          "height": 35
        },
        "outputId": "1768e535-724c-4899-f26f-f3bfa42a4cb7"
      },
      "cell_type": "code",
      "source": [
        "# Your function here!\n",
        "\n",
        "box_area = 2**7\n",
        "\n",
        "x1 = 2*r.rand(1000000) - 1\n",
        "x2 = 2*r.rand(1000000) - 1\n",
        "x3 = 2*r.rand(1000000) - 1\n",
        "x4 = 2*r.rand(1000000) - 1\n",
        "x5 = 2*r.rand(1000000) - 1\n",
        "x6 = 2*r.rand(1000000) - 1\n",
        "x7 = 2*r.rand(1000000) - 1\n",
        "\n",
        "sphere_area = box_area * np.sum(x1**2+x2**2+x3**2+x4**2+x5**2+x6**2+x7**2<1)/float(len(x1))\n",
        "print(sphere_area)"
      ],
      "execution_count": 11,
      "outputs": [
        {
          "output_type": "stream",
          "text": [
            "4.758528\n"
          ],
          "name": "stdout"
        }
      ]
    },
    {
      "metadata": {
        "id": "OTknFp8SR_Gc",
        "colab_type": "code",
        "colab": {}
      },
      "cell_type": "code",
      "source": [
        "\n",
        "\n",
        "\n",
        "\n",
        "\n",
        "\n",
        "\n",
        "\n",
        "\n",
        "\n",
        "\n",
        "\n",
        "\n",
        "\n",
        "\n",
        "\n",
        "\n",
        "\n",
        "\n",
        "\n",
        "\n",
        "\n"
      ],
      "execution_count": 0,
      "outputs": []
    },
    {
      "metadata": {
        "id": "j5qpdsgwR_Gf",
        "colab_type": "text"
      },
      "cell_type": "markdown",
      "source": [
        "**Answer**: The volume of the even- and odd-dimensional hyperspheres of radius $r$ are, respectively,\n",
        "\n",
        "$$\n",
        "\\begin{aligned} \\begin{align}\n",
        "V_{2k}(r)     &= \\frac{\\pi^k}{k!}r^{2k}\\,,\\\\\n",
        "V_{2k + 1}(r) &= \\frac{2^{k+1}\\pi^k}{\\left(2k + 1\\right)!!}r^{2k + 1}\\,.\n",
        "\\end{align} \\end{aligned}\n",
        "$$\n",
        "\n",
        "The volume of the unit 7-sphere is then $V_7(1) = \\frac{16 \\pi^3}{105} \\approx 4.725$."
      ]
    }
  ]
}